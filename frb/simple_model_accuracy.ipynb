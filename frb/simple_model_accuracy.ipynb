{
 "cells": [
  {
   "cell_type": "code",
   "execution_count": 1,
   "id": "d5bd854d-d7ad-4cff-b935-9d20c230c65b",
   "metadata": {},
   "outputs": [
    {
     "name": "stderr",
     "output_type": "stream",
     "text": [
      "2025-09-16 18:03:42.198112: I tensorflow/core/util/port.cc:110] oneDNN custom operations are on. You may see slightly different numerical results due to floating-point round-off errors from different computation orders. To turn them off, set the environment variable `TF_ENABLE_ONEDNN_OPTS=0`.\n",
      "2025-09-16 18:03:42.200186: I tensorflow/tsl/cuda/cudart_stub.cc:28] Could not find cuda drivers on your machine, GPU will not be used.\n",
      "2025-09-16 18:03:42.235266: I tensorflow/tsl/cuda/cudart_stub.cc:28] Could not find cuda drivers on your machine, GPU will not be used.\n",
      "2025-09-16 18:03:42.236050: I tensorflow/core/platform/cpu_feature_guard.cc:182] This TensorFlow binary is optimized to use available CPU instructions in performance-critical operations.\n",
      "To enable the following instructions: AVX2 AVX512F AVX512_VNNI AVX512_BF16 FMA, in other operations, rebuild TensorFlow with the appropriate compiler flags.\n",
      "2025-09-16 18:04:10.335489: W tensorflow/compiler/tf2tensorrt/utils/py_utils.cc:38] TF-TRT Warning: Could not find TensorRT\n"
     ]
    }
   ],
   "source": [
    "import h5py\n",
    "import numpy as np\n",
    "from tensorflow import keras\n",
    "from sklearn.metrics import accuracy_score, confusion_matrix, classification_report, roc_auc_score, roc_curve\n",
    "import matplotlib.pyplot as plt\n",
    "import pandas as pd\n",
    "from tensorflow.keras.layers import Conv2D, MaxPooling2D, Flatten, Dense\n",
    "from tensorflow.keras.models import Sequential\n",
    "from tensorflow.keras.utils import to_categorical"
   ]
  },
  {
   "cell_type": "code",
   "execution_count": 2,
   "id": "27c1be26-74e2-4bcc-ba26-f93a92d8d039",
   "metadata": {},
   "outputs": [
    {
     "name": "stdout",
     "output_type": "stream",
     "text": [
      "Top-level keys (groups or datasets):\n",
      " - data_dm_time\n",
      "   Shape: (40000, 256, 256, 1)\n",
      "   Dtype: float32\n",
      " - data_freq_time\n",
      "   Shape: (40000, 256, 256, 1)\n",
      "   Dtype: float32\n",
      " - data_labels\n",
      "   Shape: (40000,)\n",
      "   Dtype: bool\n"
     ]
    }
   ],
   "source": [
    "train_file = \"fetch/train_data.hdf5\"\n",
    "\n",
    "with h5py.File(train_file, \"r\") as f:\n",
    "    print(\"Top-level keys (groups or datasets):\")\n",
    "    for key in f.keys():\n",
    "        print(\" -\", key)\n",
    "        if isinstance(f[key], h5py.Group):\n",
    "            print(\"   Contains datasets:\", list(f[key].keys()))\n",
    "        elif isinstance(f[key], h5py.Dataset):\n",
    "            print(\"   Shape:\", f[key].shape)\n",
    "            print(\"   Dtype:\", f[key].dtype)"
   ]
  },
  {
   "cell_type": "code",
   "execution_count": 3,
   "id": "5b255f71-e5d9-49ae-8099-26b74851a236",
   "metadata": {},
   "outputs": [
    {
     "name": "stdout",
     "output_type": "stream",
     "text": [
      "Original X_train_dt shape: (40000, 256, 256, 1)\n",
      "y_train shape: (40000,)\n"
     ]
    },
    {
     "name": "stderr",
     "output_type": "stream",
     "text": [
      "2025-09-16 18:08:07.672948: W tensorflow/core/common_runtime/gpu/gpu_device.cc:1956] Cannot dlopen some GPU libraries. Please make sure the missing libraries mentioned above are installed properly if you would like to use GPU. Follow the guide at https://www.tensorflow.org/install/gpu for how to download and setup the required libraries for your platform.\n",
      "Skipping registering GPU devices...\n"
     ]
    }
   ],
   "source": [
    "from tensorflow.image import resize\n",
    "\n",
    "# Load training data\n",
    "with h5py.File(train_file, \"r\") as f:\n",
    "    # X_train_ft = np.array(f[\"data_freq_time\"], dtype=np.float32)\n",
    "    X_train_dt = np.array(f[\"data_dm_time\"], dtype=np.float32)\n",
    "    y_train = np.array(f[\"data_labels\"], dtype=int)\n",
    "\n",
    "# Check the shape before resizing\n",
    "print(\"Original X_train_dt shape:\", X_train_dt.shape)\n",
    "print(\"y_train shape:\", y_train.shape)\n",
    "\n",
    "# Resize each image from (256, 256, 1) to (64, 64, 1)\n",
    "X_train = np.array([resize(img, (64, 64)) for img in X_train_dt])\n",
    "\n",
    "# Ensure the reshaped X_train matches the number of labels in y_train\n",
    "assert X_train.shape[0] == y_train.shape[0], \"Mismatch between X_train and y_train samples\"\n",
    "\n",
    "# One-hot encode the labels\n",
    "y_train = to_categorical(y_train, num_classes=2)"
   ]
  },
  {
   "cell_type": "code",
   "execution_count": 4,
   "id": "fd68209b-df10-488a-990d-861388b97cd1",
   "metadata": {},
   "outputs": [
    {
     "name": "stdout",
     "output_type": "stream",
     "text": [
      "Top-level keys (groups or datasets):\n",
      " - data_dm_time\n",
      "   Shape: (13983, 256, 256, 1)\n",
      "   Dtype: float32\n",
      " - data_freq_time\n",
      "   Shape: (13983, 256, 256, 1)\n",
      "   Dtype: float32\n",
      " - data_labels\n",
      "   Shape: (13983,)\n",
      "   Dtype: bool\n"
     ]
    }
   ],
   "source": [
    "test_file = \"fetch/test_data.hdf5\"\n",
    "\n",
    "with h5py.File(test_file, \"r\") as f:\n",
    "    print(\"Top-level keys (groups or datasets):\")\n",
    "    for key in f.keys():\n",
    "        print(\" -\", key)\n",
    "        # Check what’s inside each key\n",
    "        if isinstance(f[key], h5py.Group):\n",
    "            print(\"   Contains datasets:\", list(f[key].keys()))\n",
    "        elif isinstance(f[key], h5py.Dataset):\n",
    "            print(\"   Shape:\", f[key].shape)\n",
    "            print(\"   Dtype:\", f[key].dtype)"
   ]
  },
  {
   "cell_type": "code",
   "execution_count": 5,
   "id": "3ca935af-2bf8-480a-85d5-125186b3e792",
   "metadata": {},
   "outputs": [
    {
     "name": "stdout",
     "output_type": "stream",
     "text": [
      "Original X_test_dt shape: (13983, 256, 256, 1)\n",
      "y_true shape: (13983,)\n"
     ]
    }
   ],
   "source": [
    "# Load test data\n",
    "with h5py.File(test_file, \"r\") as f:\n",
    "    # X_ft = np.array(f[\"data_freq_time\"], dtype=np.float32)\n",
    "    X_dt = np.array(f[\"data_dm_time\"], dtype=np.float32)\n",
    "    y_true = np.array(f[\"data_labels\"], dtype=int)  # bool to int\n",
    "\n",
    "# Check the shape before resizing\n",
    "print(\"Original X_test_dt shape:\", X_dt.shape)\n",
    "print(\"y_true shape:\", y_true.shape)\n",
    "\n",
    "# Resize each image from (256, 256, 1) to (64, 64, 1)\n",
    "X_test = np.array([resize(img, (64, 64)) for img in X_dt])\n",
    "\n",
    "# One-hot encode the test labels\n",
    "y_true = to_categorical(y_true, num_classes=2)\n",
    "\n",
    "# Ensure the reshaped X_test matches the number of test labels\n",
    "assert X_test.shape[0] == y_true.shape[0], \"Mismatch between X_test and y_true samples\""
   ]
  },
  {
   "cell_type": "code",
   "execution_count": 7,
   "id": "c7113cfd-c4f3-4e0f-b758-621fde050773",
   "metadata": {},
   "outputs": [
    {
     "name": "stdout",
     "output_type": "stream",
     "text": [
      "Final shapes:\n",
      "X_train_resized shape: (40000, 64, 64, 1)\n",
      "y_train shape: (40000, 2)\n",
      "X_test_resized shape: (13983, 64, 64, 1)\n",
      "y_true shape: (13983, 2)\n"
     ]
    }
   ],
   "source": [
    "# Now X_train, X_test, y_train, y_true should all be correctly shaped\n",
    "print(\"Final shapes:\")\n",
    "print(\"X_train_resized shape:\", X_train.shape)\n",
    "print(\"y_train shape:\", y_train.shape)\n",
    "print(\"X_test_resized shape:\", X_test.shape)\n",
    "print(\"y_true shape:\", y_true.shape)"
   ]
  },
  {
   "cell_type": "code",
   "execution_count": 8,
   "id": "336935f6-43e3-4a23-8442-bcac1532d2cc",
   "metadata": {},
   "outputs": [],
   "source": [
    "def create_simple_cnn(input_shape):\n",
    "    model = Sequential()\n",
    "    model.add(Conv2D(2, (3, 3), activation='relu', input_shape=input_shape))\n",
    "    model.add(Flatten())\n",
    "    model.add(Dense(2, activation='softmax'))  # Output layer for 2 classes (RFI, FRB)\n",
    "    model.compile(optimizer='adam', loss='categorical_crossentropy', metrics=['accuracy'])\n",
    "    return model\n",
    "\n",
    "# Define the input shape (assuming X_ft has shape [samples, height, width, 1])\n",
    "input_shape = (X_train.shape[1], X_train.shape[2], 1)\n",
    "\n",
    "# Create the model\n",
    "model = create_simple_cnn(input_shape)"
   ]
  },
  {
   "cell_type": "code",
   "execution_count": 9,
   "id": "52314967-b6c3-4538-8a36-92b61383d6ae",
   "metadata": {},
   "outputs": [
    {
     "name": "stdout",
     "output_type": "stream",
     "text": [
      "Epoch 1/10\n",
      "1000/1000 [==============================] - 2s 2ms/step - loss: 0.0596 - accuracy: 0.9783 - val_loss: 0.6865 - val_accuracy: 0.7810\n",
      "Epoch 2/10\n",
      "1000/1000 [==============================] - 2s 2ms/step - loss: 0.0133 - accuracy: 0.9962 - val_loss: 0.5612 - val_accuracy: 0.8253\n",
      "Epoch 3/10\n",
      "1000/1000 [==============================] - 2s 2ms/step - loss: 0.0085 - accuracy: 0.9977 - val_loss: 1.6696 - val_accuracy: 0.7195\n",
      "Epoch 4/10\n",
      "1000/1000 [==============================] - 2s 2ms/step - loss: 0.0055 - accuracy: 0.9986 - val_loss: 0.8571 - val_accuracy: 0.8064\n",
      "Epoch 5/10\n",
      "1000/1000 [==============================] - 2s 2ms/step - loss: 0.0054 - accuracy: 0.9985 - val_loss: 0.9036 - val_accuracy: 0.8077\n",
      "Epoch 6/10\n",
      "1000/1000 [==============================] - 2s 2ms/step - loss: 0.0062 - accuracy: 0.9983 - val_loss: 1.4498 - val_accuracy: 0.7771\n",
      "Epoch 7/10\n",
      "1000/1000 [==============================] - 2s 2ms/step - loss: 0.0049 - accuracy: 0.9987 - val_loss: 1.9461 - val_accuracy: 0.7551\n",
      "Epoch 8/10\n",
      "1000/1000 [==============================] - 2s 2ms/step - loss: 0.0027 - accuracy: 0.9993 - val_loss: 1.4245 - val_accuracy: 0.7849\n",
      "Epoch 9/10\n",
      "1000/1000 [==============================] - 2s 2ms/step - loss: 0.0030 - accuracy: 0.9990 - val_loss: 2.3431 - val_accuracy: 0.7489\n",
      "Epoch 10/10\n",
      "1000/1000 [==============================] - 2s 2ms/step - loss: 0.0032 - accuracy: 0.9989 - val_loss: 1.2638 - val_accuracy: 0.8164\n"
     ]
    },
    {
     "data": {
      "text/plain": [
       "<keras.callbacks.History at 0x7552152fdb20>"
      ]
     },
     "execution_count": 9,
     "metadata": {},
     "output_type": "execute_result"
    }
   ],
   "source": [
    "model.fit(X_train, y_train, batch_size=32, epochs=10, validation_split=0.2)"
   ]
  },
  {
   "cell_type": "code",
   "execution_count": 10,
   "id": "816ac916-524e-48e6-86b6-094a8c3299a5",
   "metadata": {},
   "outputs": [
    {
     "name": "stdout",
     "output_type": "stream",
     "text": [
      "437/437 [==============================] - 0s 730us/step\n",
      "Test Accuracy: 0.8778516770364013\n",
      "Confusion matrix:\n",
      " [[7238   81]\n",
      " [1627 5037]]\n",
      "              precision    recall  f1-score   support\n",
      "\n",
      "         RFI       0.82      0.99      0.89      7319\n",
      "         FRB       0.98      0.76      0.86      6664\n",
      "\n",
      "    accuracy                           0.88     13983\n",
      "   macro avg       0.90      0.87      0.87     13983\n",
      "weighted avg       0.90      0.88      0.88     13983\n",
      "\n",
      "AUC (FRB as positive): 0.9674232379110956\n"
     ]
    },
    {
     "data": {
      "image/png": "[encoded data removed]",
      "text/plain": [
       "<Figure size 600x600 with 1 Axes>"
      ]
     },
     "metadata": {},
     "output_type": "display_data"
    }
   ],
   "source": [
    "# Make predictions\n",
    "y_prob = model.predict(X_test)\n",
    "y_pred = np.argmax(y_prob, axis=1)  # Predicted classes\n",
    "\n",
    "# Compute accuracy\n",
    "acc = accuracy_score(np.argmax(y_true, axis=1), y_pred)  # Use argmax on y_true for comparison\n",
    "print(\"Test Accuracy:\", acc)\n",
    "\n",
    "# Confusion Matrix and Classification Report\n",
    "cm = confusion_matrix(np.argmax(y_true, axis=1), y_pred)\n",
    "report = classification_report(np.argmax(y_true, axis=1), y_pred, target_names=[\"RFI\", \"FRB\"])\n",
    "print(\"Confusion matrix:\\n\", cm)\n",
    "print(report)\n",
    "\n",
    "# Compute ROC AUC for FRB (class 1 as positive)\n",
    "p_frb = y_prob[:, 1]  # probability of class 'FRB'\n",
    "auc = roc_auc_score(np.argmax(y_true, axis=1), p_frb)\n",
    "print(\"AUC (FRB as positive):\", auc)\n",
    "\n",
    "# Compute ROC curve\n",
    "fpr, tpr, thresholds = roc_curve(np.argmax(y_true, axis=1), p_frb)\n",
    "\n",
    "# Plot ROC curve\n",
    "plt.figure(figsize=(6,6))\n",
    "plt.plot(fpr, tpr, label=f\"ROC curve (AUC = {auc:.3f})\", linewidth=2)\n",
    "plt.plot([0,1], [0,1], 'k--', label=\"Random guess\")\n",
    "plt.xlabel(\"False Positive Rate\")\n",
    "plt.ylabel(\"True Positive Rate (Recall)\")\n",
    "plt.title(\"ROC Curve – FRB vs RFI\")\n",
    "plt.legend(loc=\"lower right\")\n",
    "plt.grid(alpha=0.3)\n",
    "plt.show()"
   ]
  },
  {
   "cell_type": "code",
   "execution_count": null,
   "id": "83f58285-36cc-4c0c-bade-f8e9fc77c83d",
   "metadata": {},
   "outputs": [],
   "source": []
  }
 ],
 "metadata": {
  "kernelspec": {
   "display_name": "Python 3.8  (fetch)",
   "language": "python",
   "name": "fetch_python3.8"
  },
  "language_info": {
   "codemirror_mode": {
    "name": "ipython",
    "version": 3
   },
   "file_extension": ".py",
   "mimetype": "text/x-python",
   "name": "python",
   "nbconvert_exporter": "python",
   "pygments_lexer": "ipython3",
   "version": "3.8.19"
  }
 },
 "nbformat": 4,
 "nbformat_minor": 5
}
